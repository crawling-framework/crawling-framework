{
 "cells": [
  {
   "cell_type": "code",
   "execution_count": null,
   "metadata": {},
   "outputs": [],
   "source": [
    "# по умолчанию мой idшник вк(Денис)\n",
    "def vkprint(*message_array, peer_id = '110014788', attachments = ''):\n",
    "    \"\"\"\n",
    "    Vk_api bot, which works like print(...) but also writes message_array into peer_id dialogue.\n",
    "    To give him access, write in https://vk.com/pythonreminder messages and change peer_id in properties.\n",
    "    It returns the number of messages in dialogue\n",
    "    TBD: export pictures in vk dialogue\n",
    "    \"\"\"\n",
    "    #message = [i for i in message.replace(',', ' ').split()]\n",
    "    import vk\n",
    "    python_bot_session = vk.Session(access_token='a8dede3a2d1a42fa9bc495db9b437ca55671824c985d1faa77371943a6d36b5508021a74cadc36b645cae')\n",
    "    python_bot = vk.API(python_bot_session)\n",
    "    \n",
    "    #peer_id = peer_id\n",
    "    message_list =[i for i in message_array]\n",
    "    message = ''\n",
    "    for i in message_list:\n",
    "        message+=' '+ str(i)\n",
    "\n",
    "    #attachments = ''\n",
    "    # TBD: разобраться с Attachments\n",
    "    print(message)\n",
    "    return python_bot.messages.send(v = '5.89',user_id = peer_id, message = message, attachment = ','.join(attachments))\n",
    "    "
   ]
  }
 ],
 "metadata": {
  "kernelspec": {
   "display_name": "Python 3",
   "language": "python",
   "name": "python3"
  },
  "language_info": {
   "codemirror_mode": {
    "name": "ipython",
    "version": 3
   },
   "file_extension": ".py",
   "mimetype": "text/x-python",
   "name": "python",
   "nbconvert_exporter": "python",
   "pygments_lexer": "ipython3",
   "version": "3.7.3"
  },
  "varInspector": {
   "cols": {
    "lenName": 16,
    "lenType": 16,
    "lenVar": 40
   },
   "kernels_config": {
    "python": {
     "delete_cmd_postfix": "",
     "delete_cmd_prefix": "del ",
     "library": "var_list.py",
     "varRefreshCmd": "print(var_dic_list())"
    },
    "r": {
     "delete_cmd_postfix": ") ",
     "delete_cmd_prefix": "rm(",
     "library": "var_list.r",
     "varRefreshCmd": "cat(var_dic_list()) "
    }
   },
   "types_to_exclude": [
    "module",
    "function",
    "builtin_function_or_method",
    "instance",
    "_Feature"
   ],
   "window_display": false
  }
 },
 "nbformat": 4,
 "nbformat_minor": 2
}
