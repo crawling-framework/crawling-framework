{
 "cells": [
  {
   "cell_type": "code",
   "execution_count": 1,
   "metadata": {},
   "outputs": [],
   "source": [
    "import matplotlib.pyplot as plt\n",
    "import networkx as nx\n",
    "import numpy as np\n",
    "import random\n",
    "import time\n",
    "import json\n",
    "\n",
    "from networkx.algorithms import community\n",
    "from matplotlib.pyplot import figure\n",
    "\n",
    "# my functions implemented in ./src/\n",
    "from vkprint import vkprint\n",
    "from crawling_algorythms import Crawler_RC,Crawler_RW,Crawler_DFS,Crawler_BFS,Crawler_MOD,Crawler_MED\n",
    "from utils import import_graph,draw_graph,get_percentile, metrics_list"
   ]
  },
  {
   "cell_type": "code",
   "execution_count": 2,
   "metadata": {},
   "outputs": [
    {
     "ename": "SyntaxError",
     "evalue": "invalid syntax (<ipython-input-2-598650754554>, line 70)",
     "output_type": "error",
     "traceback": [
      "\u001b[0;36m  File \u001b[0;32m\"<ipython-input-2-598650754554>\"\u001b[0;36m, line \u001b[0;32m70\u001b[0m\n\u001b[0;31m    vkprint(graph_name, seed_count, method, i,' it took ' int((time.time() -t0)/60),'minutes'  )\u001b[0m\n\u001b[0m                                                            ^\u001b[0m\n\u001b[0;31mSyntaxError\u001b[0m\u001b[0;31m:\u001b[0m invalid syntax\n"
     ]
    }
   ],
   "source": [
    "## макропараметры всей задачи\n",
    "graph_name = 'github'\n",
    "methods = {'RW':Crawler_RW,'RC':Crawler_RC,'DFS':Crawler_DFS, \n",
    "               'BFS':Crawler_BFS, 'MED':Crawler_MED,'MOD':Crawler_MOD} #'AFD',\n",
    "b = 121000\n",
    "seed_count =4\n",
    "\n",
    "\n",
    "# общие множества и вспомогательное, лучше не менять\n",
    "method_color = {'AFD':'pink','RC':'grey','RW':'green','DFS':'black', 'BFS':'blue', 'MED':'cyan','MOD':'red'}\n",
    "graph_name_list = ['importing',  'dblp2010',  'github','wikivote','DCAM','hamsterster','gnutella']  #'slashdot',\n",
    "linestiles = [':', '--', '-.','--']*seed_count\n",
    "\n",
    "\n",
    "# сама программа\n",
    "t00 = time.time()\n",
    "Graph = import_graph(graph_name)\n",
    "b = min(Graph.number_of_nodes(),b)\n",
    "percentile, percentile_set = get_percentile(Graph,graph_name,10) # берём топ 10 процентов вершин\n",
    "nx.write_gml(Graph, \"../data/Graphs/\"+ graph_name +'_BIG.graph')\n",
    "vkprint(\"Graph \"+graph_name+\"\\nb=\",b,\"seed count=\",seed_count, \"methods:\",methods, \"\\n percentile\",percentile)\n",
    "\n",
    "\n",
    "#draw_graph(Graph,graph_name) # отрисовываем граф, если не очень большой\n",
    "\n",
    "\n",
    "seeds = random.sample(set(Graph.nodes),seed_count) # список начальных вершин, по которым мы будем проходиться\n",
    "\n",
    "crawler = dict()   \n",
    "crawler_avg = dict()\n",
    "plt.figure(figsize=(16,16)) \n",
    "seeds = random.sample(set(Graph.nodes),seed_count)\n",
    "\n",
    "crawler = dict((method, {'nodes':np.zeros([len(methods)*seed_count,b+1]),\n",
    "                                  'degrees':[],\n",
    "                                  'k_cores':[],\n",
    "                                  'eccentricity':[],\n",
    "                                  'betweenness_centrality':[]}) for method in methods)\n",
    "crawler_avg = dict((method, {'nodes':np.zeros([len(methods)*seed_count,b+1]),\n",
    "                                  'degrees':[],\n",
    "                                  'k_cores':[],\n",
    "                                  'eccentricity':[],\n",
    "                                  'betweenness_centrality':[]}) for method in methods)\n",
    "\n",
    "\n",
    "for method in methods:\n",
    "    for prop in crawler_avg[method]:\n",
    "        crawler_avg[method][prop] = np.zeros(b+1)\n",
    "        \n",
    "    for i in range(seed_count):\n",
    "        t0 =time.time()\n",
    "        cr = methods[method]\n",
    "        crawler[method]['nodes'] = []\n",
    "        crawler[method]['nodes'].append((cr(Graph = Graph, node_seed = seeds[i], budget = b,percentile_set = percentile_set, metrics_list=metrics_list)))\n",
    "        \n",
    "        counter = 0\n",
    "        while(counter<Graph.number_of_nodes())and(counter<b):\n",
    "            crawler[method]['nodes'][-1].sampling_process() # делаем одну итерацию семплирования\n",
    "            \n",
    "            for prop in metrics_list:\n",
    "                crawler[method][prop].append(len(percentile_set[prop].intersection(set(crawler[method]['nodes'][-1].G.nodes()))))\n",
    "                #crawler[method][prop][counter]+=len(crawler[method]['nodes'][-1].Graph.intersection(percentile_set[prop]))\n",
    "            counter+=1\n",
    "            \n",
    "        plt.plot(crawler[method]['nodes'][-1].observed_history, color = method_color[method])\n",
    "        \n",
    "        for prop in crawler_avg[method]:\n",
    "            crawler_avg[method][prop] += np.array(crawler[method]['nodes'][-1].observed_history)\n",
    "        \n",
    "        vkprint(graph_name, seed_count, method, i,' it took ', int((time.time() -t0)/60),'minutes'  )\n",
    "    plt.plot(crawler_avg[method]['nodes']/seed_count, linewidth = 5, color = method_color[method], label = method)\n",
    "\n",
    "    \n",
    "plt.grid()  \n",
    "plt.legend()    \n",
    "plt.show()\n"
   ]
  },
  {
   "cell_type": "code",
   "execution_count": null,
   "metadata": {},
   "outputs": [],
   "source": [
    "fig,axs = plt.subplots(2,2,figsize=(15,15))\n",
    "plt.figure(figsize=(30,30))\n",
    "\n",
    "for prop in metrics_list:\n",
    "    j = {'degrees':0,'k_cores':1,'eccentricity':2,'betweenness_centrality':3}[prop] \n",
    "   # plt.plot([max([method_history[method][prop] for method in methods])/real_seed_count+1]*b, color = 'yellow')\n",
    "    for method in methods:\n",
    "    #for start in range(1,method_counter+1):\n",
    "     #   print('from',total//10*(start-1)-1, 'to',total//10*start-1)    #[total//10*(start-1):total//10*start]\n",
    "        axs[(j)//2][j%2].plot([i/seed_count/len(percentile_set[prop]) for i in crawler_avg[method][prop]], label =method+' '+prop, color = method_color[method] )\n",
    "        axs[(j)//2][j%2].set_title('fraction of found nodes with '+prop+ ' from '+str(len(percentile_set[prop])))\n",
    "        axs[(j)//2][j%2].legend()\n",
    "\n",
    "    axs[(j)//2][j%2].grid(True)\n",
    "fig.savefig('../results/'+graph_name+'_scores_'+str(seed_count) +'_seeds_'+str(b)+'iterations.png')"
   ]
  },
  {
   "cell_type": "code",
   "execution_count": null,
   "metadata": {},
   "outputs": [],
   "source": [
    "vkprint('i have done everything!!!!')"
   ]
  }
 ],
 "metadata": {
  "kernelspec": {
   "display_name": "Python 3",
   "language": "python",
   "name": "python3"
  },
  "language_info": {
   "codemirror_mode": {
    "name": "ipython",
    "version": 3
   },
   "file_extension": ".py",
   "mimetype": "text/x-python",
   "name": "python",
   "nbconvert_exporter": "python",
   "pygments_lexer": "ipython3",
   "version": "3.7.3"
  },
  "varInspector": {
   "cols": {
    "lenName": 16,
    "lenType": 16,
    "lenVar": 40
   },
   "kernels_config": {
    "python": {
     "delete_cmd_postfix": "",
     "delete_cmd_prefix": "del ",
     "library": "var_list.py",
     "varRefreshCmd": "print(var_dic_list())"
    },
    "r": {
     "delete_cmd_postfix": ") ",
     "delete_cmd_prefix": "rm(",
     "library": "var_list.r",
     "varRefreshCmd": "cat(var_dic_list()) "
    }
   },
   "types_to_exclude": [
    "module",
    "function",
    "builtin_function_or_method",
    "instance",
    "_Feature"
   ],
   "window_display": false
  }
 },
 "nbformat": 4,
 "nbformat_minor": 2
}
